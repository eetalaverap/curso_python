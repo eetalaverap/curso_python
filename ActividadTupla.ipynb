{
 "cells": [
  {
   "cell_type": "code",
   "execution_count": 9,
   "id": "8ae699f8",
   "metadata": {},
   "outputs": [
    {
     "name": "stdout",
     "output_type": "stream",
     "text": [
      "5\n",
      "5\n",
      "{1: [3, 'Hola', True, 5, 'Mensaje'], 2: [3, 'Hola', True, 5, 'Mensaje'], 3: [3, 'Hola', True, 5, 'Mensaje'], 4: [3, 'Hola', True, 5, 'Mensaje']}\n",
      "{1: 3, 2: 'Hola', 3: True, 4: 5, 5: 'Mensaje'}\n"
     ]
    }
   ],
   "source": [
    "#Creamos una tupla\n",
    "mi_tupla=(3,\"Hola\",True,5,\"Mensaje\")\n",
    "print(len(mi_tupla))\n",
    "#Convertimos la tupla a una lista\n",
    "mi_lista=list(mi_tupla)\n",
    "print(len(mi_lista))\n",
    "#Ahora vamos con el diccionario\n",
    "#pensé que de ésta forma sería más fácil, más abajo lo corrijo\n",
    "mi_dicc=dict.fromkeys(range(1,5),mi_lista)\n",
    "print(mi_dicc)\n",
    "#La forma buena\n",
    "mi_dicc={1:mi_lista[0],2:mi_lista[1],3:mi_lista[2],4:mi_lista[3],5:mi_lista[4]}\n",
    "print(mi_dicc)"
   ]
  },
  {
   "cell_type": "code",
   "execution_count": null,
   "id": "fda19fe8",
   "metadata": {},
   "outputs": [],
   "source": []
  },
  {
   "cell_type": "code",
   "execution_count": null,
   "id": "b0b874d7",
   "metadata": {},
   "outputs": [],
   "source": []
  }
 ],
 "metadata": {
  "kernelspec": {
   "display_name": "Python 3 (ipykernel)",
   "language": "python",
   "name": "python3"
  },
  "language_info": {
   "codemirror_mode": {
    "name": "ipython",
    "version": 3
   },
   "file_extension": ".py",
   "mimetype": "text/x-python",
   "name": "python",
   "nbconvert_exporter": "python",
   "pygments_lexer": "ipython3",
   "version": "3.10.9"
  }
 },
 "nbformat": 4,
 "nbformat_minor": 5
}
